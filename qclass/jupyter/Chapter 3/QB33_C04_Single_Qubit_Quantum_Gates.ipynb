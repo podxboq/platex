{
 "cells": [
  {
   "cell_type": "markdown",
   "metadata": {
    "id": "QE_OdbLOALU1"
   },
   "source": [
    "<img src=\"../include/header.jpg\" align=\"left\"></a>\n",
    "\n",
    "$ \\newcommand{\\biginner}[2]{\\left\\langle #1,#2\\right\\rangle} $\n",
    "$ \\newcommand{\\mymatrix}[2]{\\left( \\begin{array}{#1} #2\\end{array} \\right)} $\n",
    "$ \\newcommand{\\myvector}[1]{\\mymatrix{c}{#1}} $\n",
    "$ \\newcommand{\\myrvector}[1]{\\mymatrix{r}{#1}} $\n",
    "$ \\newcommand{\\mypar}[1]{\\left( #1 \\right)} $\n",
    "$ \\newcommand{\\mybigpar}[1]{ \\Big( #1 \\Big)} $\n",
    "$ \\newcommand{\\sqrttwo}{\\frac{1}{\\sqrt{2}}} $\n",
    "$ \\newcommand{\\dsqrttwo}{\\dfrac{1}{\\sqrt{2}}} $\n",
    "$ \\newcommand{\\onehalf}{\\frac{1}{2}} $\n",
    "$ \\newcommand{\\donehalf}{\\dfrac{1}{2}} $\n",
    "$ \\newcommand{\\hadamard}{ \\mymatrix{rr}{ \\sqrttwo & \\sqrttwo \\\\ \\sqrttwo & -\\sqrttwo }} $\n",
    "$ \\newcommand{\\vzero}{\\myvector{1\\\\0}} $\n",
    "$ \\newcommand{\\vone}{\\myvector{0\\\\1}} $\n",
    "$ \\newcommand{\\stateplus}{\\myvector{ \\sqrttwo \\\\  \\sqrttwo } } $\n",
    "$ \\newcommand{\\stateminus}{ \\myrvector{ \\sqrttwo \\\\ -\\sqrttwo } } $\n",
    "$ \\newcommand{\\myarray}[2]{ \\begin{array}{#1}#2\\end{array}} $\n",
    "$ \\newcommand{\\X}{ \\mymatrix{cc}{0 & 1 \\\\ 1 & 0}  } $\n",
    "$ \\renewcommand{\\Z}{ \\mymatrix{rr}{1 & 0 \\\\ 0 & -1}  } $\n",
    "$ \\newcommand{\\Htwo}{ \\mymatrix{rrrr}{ \\frac{1}{2} & \\frac{1}{2} & \\frac{1}{2} & \\frac{1}{2} \\\\ \\frac{1}{2} & -\\frac{1}{2} & \\frac{1}{2} & -\\frac{1}{2} \\\\ \\frac{1}{2} & \\frac{1}{2} & -\\frac{1}{2} & -\\frac{1}{2} \\\\ \\frac{1}{2} & -\\frac{1}{2} & -\\frac{1}{2} & \\frac{1}{2} } } $\n",
    "$ \\newcommand{\\CNOT}{ \\mymatrix{cccc}{1 & 0 & 0 & 0 \\\\ 0 & 1 & 0 & 0 \\\\ 0 & 0 & 0 & 1 \\\\ 0 & 0 & 1 & 0} } $\n",
    "$ \\newcommand{\\norm}[1]{ \\left\\lVert #1 \\right\\rVert } $\n",
    "$ \\newcommand{\\pstate}[1]{ \\lceil \\mspace{-1mu} #1 \\mspace{-1.5mu} \\rfloor } $\n",
    "$ \\newcommand{\\Y}{ \\mymatrix{rr}{0 & -i \\\\ i & 0} } $\n",
    "$ \\renewcommand{\\S}{ \\mymatrix{rr}{1 & 0 \\\\ 0 & i} } $\n",
    "$ \\newcommand{\\T}{ \\mymatrix{rr}{1 & 0 \\\\ 0 & e^{i \\frac{\\pi}{4}}} } $\n",
    "$ \\newcommand{\\Sdg}{ \\mymatrix{rr}{1 & 0 \\\\ 0 & -i} } $\n",
    "$ \\newcommand{\\Tdg}{ \\mymatrix{rr}{1 & 0 \\\\ 0 & e^{-i \\frac{\\pi}{4}}} } $\n",
    "$ \\newcommand{\\qgate}[1]{ \\mathop{\\\\textit{#1} } }$"
   ]
  },
  {
   "cell_type": "markdown",
   "metadata": {
    "id": "kkdxxr0PALU4"
   },
   "source": [
    "_prepared by Maksim Dimitrijev and Abuzer Yakaryilmaz_\n",
    "<br><br>\n",
    "_Cirq adaptation by Claudia Zendejas-Morales_"
   ]
  },
  {
   "cell_type": "markdown",
   "metadata": {
    "id": "ErzRoMh6ALU4"
   },
   "source": [
    "## Single-qubit quantum gates"
   ]
  },
  {
   "cell_type": "markdown",
   "metadata": {
    "id": "aziadYA3ALU6"
   },
   "source": [
    "##### In this notebook, we write quantum programs with single-qubit core quantum gates $ H, X, Y, Z, S, T $.\n",
    "\n",
    "We start with `Y` gate: $ Y = \\Y $."
   ]
  },
  {
   "cell_type": "code",
   "execution_count": 1,
   "metadata": {
    "id": "CBplAJO9ALU7"
   },
   "outputs": [
    {
     "ename": "ModuleNotFoundError",
     "evalue": "No module named 'cirq'",
     "output_type": "error",
     "traceback": [
      "\u001b[0;31m---------------------------------------------------------------------------\u001b[0m",
      "\u001b[0;31mModuleNotFoundError\u001b[0m                       Traceback (most recent call last)",
      "\u001b[1;32m/home/podxboq/src/Qclass/jupyter/Chapter 3/QB33_C04_Single_Qubit_Quantum_Gates.ipynb Cell 5\u001b[0m line \u001b[0;36m1\n\u001b[0;32m----> <a href='vscode-notebook-cell:/home/podxboq/src/Qclass/jupyter/Chapter%203/QB33_C04_Single_Qubit_Quantum_Gates.ipynb#W4sZmlsZQ%3D%3D?line=0'>1</a>\u001b[0m \u001b[39mimport\u001b[39;00m \u001b[39mcirq\u001b[39;00m\n\u001b[1;32m      <a href='vscode-notebook-cell:/home/podxboq/src/Qclass/jupyter/Chapter%203/QB33_C04_Single_Qubit_Quantum_Gates.ipynb#W4sZmlsZQ%3D%3D?line=1'>2</a>\u001b[0m \u001b[39mfrom\u001b[39;00m \u001b[39mcirq\u001b[39;00m \u001b[39mimport\u001b[39;00m H, X, Y, Z, S, T \u001b[39m# import the gates\u001b[39;00m\n\u001b[1;32m      <a href='vscode-notebook-cell:/home/podxboq/src/Qclass/jupyter/Chapter%203/QB33_C04_Single_Qubit_Quantum_Gates.ipynb#W4sZmlsZQ%3D%3D?line=2'>3</a>\u001b[0m \u001b[39mimport\u001b[39;00m \u001b[39mnumpy\u001b[39;00m \u001b[39mas\u001b[39;00m \u001b[39mnp\u001b[39;00m \u001b[39m# we use \"numpy\" for mathmatical functions\u001b[39;00m\n",
      "\u001b[0;31mModuleNotFoundError\u001b[0m: No module named 'cirq'"
     ]
    }
   ],
   "source": [
    "import cirq\n",
    "from cirq import H, X, Y, Z, S, T # import the gates\n",
    "import numpy as np # we use \"numpy\" for mathmatical functions\n",
    "\n",
    "circuit = cirq.Circuit() # create a circuit\n",
    "\n",
    "q0 = cirq.LineQubit(0) # create a qubit\n",
    "\n",
    "circuit.append(Y(q0)) # append the Y gate applied to q0\n",
    "\n",
    "print(\"the circuit is\")\n",
    "print(circuit)\n",
    "print()\n",
    "\n",
    "U = cirq.unitary(Y) # read the unitary operator\n",
    "\n",
    "print(\"the matrix form of Y is\")\n",
    "for row in U:\n",
    "    row_str=\"\"\n",
    "    for col in row:\n",
    "        row_str += str(np.round(col,3))+\"  \"\n",
    "    print(row_str)\n",
    "print()\n",
    "\n",
    "# Simulate the circuit\n",
    "s = cirq.Simulator()\n",
    "results = s.simulate(circuit)\n",
    "\n",
    "print(\"the quantum state is\")\n",
    "# print the quantum state in ket\n",
    "print(results.dirac_notation())\n",
    "print()"
   ]
  },
  {
   "cell_type": "markdown",
   "metadata": {
    "id": "4axzMy7_ALU7"
   },
   "source": [
    "## Task 1\n",
    "\n",
    "We design two circuits in Cirq.\n",
    "\n",
    "Circuit I:\n",
    "- Start in $ \\ket{0} $.\n",
    "- Apply `H` gate and obtain $ \\ket{+} $\n",
    "- Apply `Y` gate\n",
    "\n",
    "Circuit II:\n",
    "- Start in $ \\ket{0} $.\n",
    "- Apply `H` gate and obtain $ \\ket{+} $\n",
    "- Apply `X` gate\n",
    "\n",
    "Visualize the final states on the Bloch sphere.\n",
    "\n",
    "Do they differ by a global phase? Or, are they separable states?\n",
    "\n",
    "Calculate the inner product of the final states."
   ]
  },
  {
   "cell_type": "markdown",
   "metadata": {},
   "source": [
    "### Solution\n",
    "\n",
    "$\\ket{0}HY=\\ket{+}Y=-i\\ket{-}$\n",
    "\n",
    "$\\ket{0}HX=\\ket{+}X=\\ket{+}$"
   ]
  },
  {
   "cell_type": "markdown",
   "metadata": {
    "id": "Ct5eHCH6ALU8"
   },
   "source": [
    "<h3> Task 2 </h3>\n",
    "\n",
    "We design two circuits in Cirq.\n",
    "\n",
    "Circuit I:\n",
    "- Start in $ \\ket{0} $.\n",
    "- Apply `X` gate\n",
    "- Apply `H` gate and obtain $ \\ket{-} $\n",
    "- Apply `Y` gate\n",
    "\n",
    "Circuit II:\n",
    "- Start in $ \\ket{0} $.\n",
    "- Apply `X` gate\n",
    "- Apply `H` gate and obtain $ \\ket{-} $\n",
    "- Apply `X` gate\n",
    "\n",
    "Visualize the final states on the Bloch sphere.\n",
    "\n",
    "Do they differ by a global phase? Or, are they separable states?\n",
    "\n",
    "Calculate the inner product of the final states."
   ]
  },
  {
   "cell_type": "markdown",
   "metadata": {},
   "source": [
    "### Solution\n",
    "\n",
    "$\\ket{1}HY=\\ket{-}Y=i\\ket{+}$\n",
    "\n",
    "$\\ket{1}HX=\\ket{-}X=-\\ket{-}$"
   ]
  },
  {
   "cell_type": "markdown",
   "metadata": {
    "id": "uCj_ost-ALU8"
   },
   "source": [
    "<h2> Phase gates </h2>\n",
    "\n",
    "We continue with ``the phase gates``. Such gates do not change the probabilities of the states to be observed, but change the relative phase.\n",
    "\n",
    "The `Z` gate: $ Z = \\Z $\n",
    "\n",
    "The `S` gate: $ S = \\S $\n",
    "\n",
    "The `S-dagger` gate: $ S^{\\dagger} = \\Sdg $\n",
    "\n",
    "The `T` gate: $ T = \\T $\n",
    "\n",
    "The `T-dagger` gate: $ T^{\\dagger} = \\Tdg $."
   ]
  },
  {
   "cell_type": "markdown",
   "metadata": {
    "id": "qySKd5uNALU9"
   },
   "source": [
    "In Cirq, `Z`, `S`, and `T` gates are pre-defined gates.\n",
    "\n",
    "Cirq allows us to do power operations on ``the pauli gates``.\n",
    "\n",
    "Thus, the gates `S-dagger` and `T-dagger` can be defined as the powers of the `Z` gate:"
   ]
  },
  {
   "cell_type": "code",
   "execution_count": null,
   "metadata": {
    "id": "LJULoC7zALU9"
   },
   "outputs": [],
   "source": [
    "import cirq\n",
    "from cirq import Z, S, T\n",
    "\n",
    "# S\n",
    "print(\"S is\")\n",
    "print(cirq.unitary(S))\n",
    "print()\n",
    "\n",
    "# S†: S-dagger\n",
    "Sdg = Z**(-1/2)\n",
    "print(\"S† is\")\n",
    "print(cirq.unitary(Sdg))\n",
    "print()\n",
    "\n",
    "# T\n",
    "print(\"T is\")\n",
    "print(cirq.unitary(T))\n",
    "print()\n",
    "\n",
    "# T†: T-dagger\n",
    "Tdg = Z**(-1/4)\n",
    "print(\"T† is\")\n",
    "print(cirq.unitary(Tdg))\n",
    "print()"
   ]
  },
  {
   "cell_type": "markdown",
   "metadata": {
    "id": "5Mrmv5tIALU9"
   },
   "source": [
    "## Daggering gates\n",
    "\n",
    "In Cirq, we use also method `inverse()` to obtain the dagger of the gate:\n",
    "\n",
    "    cirq.inverse(U)\n",
    "    \n",
    "So, $ S^\\dagger $ or $ T^\\dagger $ can be obtain directly.   "
   ]
  },
  {
   "cell_type": "code",
   "execution_count": null,
   "metadata": {
    "id": "h6Bvm3xHALU9"
   },
   "outputs": [],
   "source": [
    "import cirq\n",
    "from cirq import S, T\n",
    "\n",
    "# S†: S-dagger\n",
    "Sdg = cirq.inverse(S)\n",
    "print(\"S† is\")\n",
    "print(cirq.unitary(Sdg))\n",
    "print()\n",
    "\n",
    "# T†: T-dagger\n",
    "Tdg = cirq.inverse(T)\n",
    "print(\"T† is\")\n",
    "print(cirq.unitary(Tdg))\n",
    "print()"
   ]
  }
 ],
 "metadata": {
  "colab": {
   "collapsed_sections": [
    "Oh3Pu8NkALU5"
   ],
   "provenance": [
    {
     "file_id": "1khIOoJytRwchQcOahe4SlPuMFmpKqfGp",
     "timestamp": 1701644021750
    }
   ]
  },
  "kernelspec": {
   "display_name": "Python 3 (ipykernel)",
   "language": "python",
   "name": "python3"
  },
  "language_info": {
   "codemirror_mode": {
    "name": "ipython",
    "version": 3
   },
   "file_extension": ".py",
   "mimetype": "text/x-python",
   "name": "python",
   "nbconvert_exporter": "python",
   "pygments_lexer": "ipython3",
   "version": "3.11.5"
  }
 },
 "nbformat": 4,
 "nbformat_minor": 1
}
