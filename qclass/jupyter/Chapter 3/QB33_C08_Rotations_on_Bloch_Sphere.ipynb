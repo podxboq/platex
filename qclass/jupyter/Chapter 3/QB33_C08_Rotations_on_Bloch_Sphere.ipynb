{
  "cells": [
    {
      "cell_type": "markdown",
      "metadata": {
        "id": "EHr2hJskFiBl"
      },
      "source": [
        "<img src=\"../include/header.jpg\" align=\"left\">\n",
        "\n",
        "$ \\newcommand{\\biginner}[2]{\\left\\langle #1,#2\\right\\rangle} $\n",
        "$ \\newcommand{\\mymatrix}[2]{\\left( \\begin{array}{#1} #2\\end{array} \\right)} $\n",
        "$ \\newcommand{\\myvector}[1]{\\mymatrix{c}{#1}} $\n",
        "$ \\newcommand{\\myrvector}[1]{\\mymatrix{r}{#1}} $\n",
        "$ \\newcommand{\\mypar}[1]{\\left( #1 \\right)} $\n",
        "$ \\newcommand{\\mybigpar}[1]{ \\Big( #1 \\Big)} $\n",
        "$ \\newcommand{\\sqrttwo}{\\frac{1}{\\sqrt{2}}} $\n",
        "$ \\newcommand{\\dsqrttwo}{\\dfrac{1}{\\sqrt{2}}} $\n",
        "$ \\newcommand{\\onehalf}{\\frac{1}{2}} $\n",
        "$ \\newcommand{\\donehalf}{\\dfrac{1}{2}} $\n",
        "$ \\newcommand{\\hadamard}{ \\mymatrix{rr}{ \\sqrttwo & \\sqrttwo \\\\ \\sqrttwo & -\\sqrttwo }} $\n",
        "$ \\newcommand{\\vzero}{\\myvector{1\\\\0}} $\n",
        "$ \\newcommand{\\vone}{\\myvector{0\\\\1}} $\n",
        "$ \\newcommand{\\stateplus}{\\myvector{ \\sqrttwo \\\\  \\sqrttwo } } $\n",
        "$ \\newcommand{\\stateminus}{ \\myrvector{ \\sqrttwo \\\\ -\\sqrttwo } } $\n",
        "$ \\newcommand{\\myarray}[2]{ \\begin{array}{#1}#2\\end{array}} $\n",
        "$ \\newcommand{\\X}{ \\mymatrix{cc}{0 & 1 \\\\ 1 & 0}  } $\n",
        "$ \\newcommand{\\ZMatrix}{ \\mymatrix{rr}{1 & 0 \\\\ 0 & -1}  } $\n",
        "$ \\newcommand{\\Htwo}{ \\mymatrix{rrrr}{ \\frac{1}{2} & \\frac{1}{2} & \\frac{1}{2} & \\frac{1}{2} \\\\ \\frac{1}{2} & -\\frac{1}{2} & \\frac{1}{2} & -\\frac{1}{2} \\\\ \\frac{1}{2} & \\frac{1}{2} & -\\frac{1}{2} & -\\frac{1}{2} \\\\ \\frac{1}{2} & -\\frac{1}{2} & -\\frac{1}{2} & \\frac{1}{2} } } $\n",
        "$ \\newcommand{\\CNOT}{ \\mymatrix{cccc}{1 & 0 & 0 & 0 \\\\ 0 & 1 & 0 & 0 \\\\ 0 & 0 & 0 & 1 \\\\ 0 & 0 & 1 & 0} } $\n",
        "$ \\newcommand{\\norm}[1]{ \\left\\lVert #1 \\right\\rVert } $\n",
        "$ \\newcommand{\\pstate}[1]{ \\lceil \\mspace{-1mu} #1 \\mspace{-1.5mu} \\rfloor } $\n",
        "$ \\newcommand{\\Y}{ \\mymatrix{rr}{0 & -i \\\\ i & 0} } $\n",
        "$ \\newcommand{\\SMatrix}{ \\mymatrix{rr}{1 & 0 \\\\ 0 & i} } $\n",
        "$ \\newcommand{\\T}{ \\mymatrix{rr}{1 & 0 \\\\ 0 & e^{i \\frac{\\pi}{4}}} } $\n",
        "$ \\newcommand{\\Sdg}{ \\mymatrix{rr}{1 & 0 \\\\ 0 & -i} } $\n",
        "$ \\newcommand{\\Tdg}{ \\mymatrix{rr}{1 & 0 \\\\ 0 & e^{-i \\frac{\\pi}{4}}} } $\n",
        "$ \\newcommand{\\qgate}[1]{ \\mathop{\\\\textit{#1} } }$"
      ]
    },
    {
      "cell_type": "markdown",
      "metadata": {
        "id": "HglTZFOTFiBo"
      },
      "source": [
        "_prepared by Maksim Dimitrijev and Abuzer Yakaryilmaz_\n",
        "<br><br>\n",
        "_Cirq adaptation by Claudia Zendejas-Morales_"
      ]
    },
    {
      "cell_type": "markdown",
      "metadata": {
        "id": "qvqR3le6FiBo"
      },
      "source": [
        "# Rotations on Bloch sphere"
      ]
    },
    {
      "cell_type": "markdown",
      "metadata": {
        "id": "OVP88B9_FiBp"
      },
      "source": [
        "All core single-qubit gates are rotatios on the Bloch sphere."
      ]
    },
    {
      "cell_type": "markdown",
      "metadata": {
        "id": "OneoI9EfFiBp"
      },
      "source": [
        "## Generic rotation gate\n",
        "\n",
        "We start with the generic single-qubit rotation gate with three angles:\n",
        "\n",
        "$ U_3(\\theta,\\phi,\\lambda) = \\mymatrix{cc}{\\cos \\mypar{\\frac{\\theta}{2}} & -e^{i\\lambda}\\sin \\mypar{\\frac{\\theta}{2}} \\\\ e^{i\\phi}\\sin \\mypar{\\frac{\\theta}{2}} & e^{i\\lambda + i\\phi}\\cos \\mypar{\\frac{\\theta}{2}}}, $\n",
        "\n",
        "where $0 \\leq \\theta \\leq \\pi$ and $0 \\leq \\phi, \\lambda < 2\\pi$.\n",
        "\n",
        "Here $ U_3 \\ket{0} $ gives us any arbitrary state $ \\ket{u} = \\cos\\mypar{\\frac{\\theta}{2}} \\ket{0} + e^{i\\phi} \\sin\\mypar{\\frac{\\theta}{2}} \\ket{1} $."
      ]
    },
    {
      "cell_type": "markdown",
      "metadata": {
        "id": "3D7A4HiyFiBq"
      },
      "source": [
        "_In Cirq, the `U3` gate can be implemented with the `QasmUGate` class, however it does not receive the parameters in terms of angles, so we will not use it._\n",
        "\n",
        "We define a function called `myU3(⋯)` to apply `U3(theta,phi,lam)` to the specified `qubit` of the specified `circuit`:\n",
        "\n",
        "    MyU3(circuit,theta,phi,lam,qubit)\n",
        "\n",
        "We `run quantum.py` to access `myU3(⋯)`\n",
        "\n",
        "    %run quantum.py"
      ]
    },
    {
      "cell_type": "markdown",
      "metadata": {
        "id": "5SPceP4lFiBr"
      },
      "source": [
        "## Pauli operators\n",
        "\n",
        "The label of each Pauli matrix comes from the axis around which the operator rotates.\n",
        "\n",
        "The operators $ X, Y, Z$ are the rotations with $\\pi$ around the `x`, `y`, and `z` axes, respectively.\n"
      ]
    },
    {
      "cell_type": "markdown",
      "metadata": {
        "id": "azLktf8FFiBr"
      },
      "source": [
        "## Rotation around the axes\n",
        "\n",
        "Pauli matrices rotate with $ \\pi $ degree. By using rotation gates, we can replace $ \\pi $ with an arbitrary angle."
      ]
    },
    {
      "cell_type": "markdown",
      "metadata": {
        "id": "nEa13OMsFiBr"
      },
      "source": [
        "### RX gate\n",
        "\n",
        "Rotation gate around axis:\n",
        "\n",
        "$ RX(\\theta) = \\mymatrix{cc}{\\cos \\mypar{\\frac{\\theta}{2}} & -i\\sin \\mypar{\\frac{\\theta}{2}} \\\\ -i\\sin \\mypar{\\frac{\\theta}{2}} & \\cos \\mypar{\\frac{\\theta}{2}}} $.\n",
        "\n",
        "$RY(\\theta) = \\mymatrix{cc}{\\cos \\mypar{\\frac{\\theta}{2}} & -\\sin \\mypar{\\frac{\\theta}{2}} \\\\ \\sin \\mypar{\\frac{\\theta}{2}} & \\cos \\mypar{\\frac{\\theta}{2}}}$.\n",
        "\n",
        "$RZ(\\theta) = \\mymatrix{cc}{e^{\\frac{-i \\theta}{2}} & 0 \\\\ 0 & e^{\\frac{i \\theta}{2}}}$."
      ]
    },
    {
      "cell_type": "markdown",
      "metadata": {
        "id": "wgrwmXOFFiBs"
      },
      "source": [
        "## Phase gates"
      ]
    },
    {
      "cell_type": "markdown",
      "metadata": {
        "id": "Cv4K1Dn-FiBs"
      },
      "source": [
        "We can re-write the matrix of $ RZ(\\phi) $ as\n",
        "\n",
        "$ RZ(\\phi) = \\mymatrix{cc}{e^{\\frac{-i \\phi}{2}} & 0 \\\\ 0 & e^{\\frac{i \\phi}{2}}} =  e^{\\frac{-i \\phi}{2}} \\mymatrix{cc}{1 & 0 \\\\ 0 & e^{i \\phi}} $.\n",
        "\n",
        "The gate $ RZ(\\phi) $ indeed changes only the phase.\n",
        "\n",
        "If we start in state $ \\ket{+} $, then the rotations occur on $x$-$y$ plane."
      ]
    },
    {
      "cell_type": "markdown",
      "metadata": {
        "id": "wxEUiB3vFiBs"
      },
      "source": [
        "### Task 5\n",
        "\n",
        "The following phase gates are special cases of $ RZ(\\theta) $ gate.\n",
        "\n",
        "Determine $ \\theta $ values for each of them:\n",
        "\n",
        "- $ Z = \\ZMatrix $\n",
        "- $ S = \\SMatrix $\n",
        "- $ S^\\dagger = \\Sdg $\n",
        "- $ T = \\T $\n",
        "- $ T^\\dagger = \\Tdg $"
      ]
    },
    {
      "cell_type": "markdown",
      "metadata": {
        "id": "NOQlRPPmFiBt"
      },
      "source": [
        "## Arbitrary quantum state\n",
        "\n",
        "Any arbitrary quantum state is represented as $ \\ket{u} = \\cos{\\frac{\\theta}{2}} \\ket{0} + e^{i\\phi} \\sin{\\frac{\\theta}{2}} \\ket{1} $.\n",
        "\n",
        "We can set a qubit in $ \\ket{0} $ to $ \\ket{u} $ with two rotations: $ RY(\\theta) $ and then $ RZ(\\phi) $.\n",
        "\n",
        "This is simplier than applying `U3()` gate."
      ]
    },
    {
      "cell_type": "markdown",
      "metadata": {
        "id": "gbtKHA8lFiBt"
      },
      "source": [
        "### Task 7\n",
        "\n",
        "A qubit is in state $ \\ket{u_1} = \\cos{\\frac{\\theta_1}{2}} \\ket{0} + e^{i\\phi_1} \\sin{\\frac{\\theta_1}{2}} \\ket{1} $.\n",
        "\n",
        "Which rotation gate or gates can we apply to set the state of qubit to $ \\ket{u_2} = \\cos{\\frac{\\theta_2}{2}} \\ket{0} + e^{i\\phi_2} \\sin{\\frac{\\theta_2}{2}} \\ket{1} $?"
      ]
    },
    {
      "cell_type": "markdown",
      "metadata": {
        "id": "u7UAWpCvFiBt"
      },
      "source": [
        "To check out our solution, run the next cell:"
      ]
    },
    {
      "cell_type": "code",
      "execution_count": null,
      "metadata": {
        "id": "k88QkKeTFiBt"
      },
      "outputs": [],
      "source": [
        "SolutionToTask7()  # show solution for task 7"
      ]
    },
    {
      "cell_type": "markdown",
      "metadata": {
        "id": "bBirzgXOFiBt"
      },
      "source": [
        "## Hadamard gate\n",
        "\n",
        "Hadamard gate $ H = \\hadamard $ is also a rotation on the Bloch sphere.\n",
        "\n",
        "It is a 90 degree rotation around the $y$-axis, followed by a 180 degree rotation around the $x$-axis."
      ]
    },
    {
      "cell_type": "markdown",
      "metadata": {
        "id": "_s4Nmo3pFiBt"
      },
      "source": [
        "### Task 8\n",
        "\n",
        "A 180 degree rotation around the $x$-axis can be implemented by applying $ X $ gate or $ RX(\\pi) $.\n",
        "\n",
        "In the above code, we use $ X $.\n",
        "\n",
        "Replace it with $ RX(\\pi) $ and check the result.\n",
        "\n",
        "Do we obtain the same matrix? If not, is this new matrix Hadamard operator or not?"
      ]
    }
  ],
  "metadata": {
    "colab": {
      "collapsed_sections": [
        "1wBQaIc9FiBo"
      ],
      "provenance": []
    },
    "kernelspec": {
      "display_name": "Python 3 (ipykernel)",
      "language": "python",
      "name": "python3"
    },
    "language_info": {
      "codemirror_mode": {
        "name": "ipython",
        "version": 3
      },
      "file_extension": ".py",
      "mimetype": "text/x-python",
      "name": "python",
      "nbconvert_exporter": "python",
      "pygments_lexer": "ipython3",
      "version": "3.11.4"
    }
  },
  "nbformat": 4,
  "nbformat_minor": 0
}
