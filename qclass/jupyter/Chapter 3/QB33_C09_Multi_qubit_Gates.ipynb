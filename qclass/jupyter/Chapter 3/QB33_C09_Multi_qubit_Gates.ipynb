{
  "cells": [
    {
      "cell_type": "markdown",
      "metadata": {
        "id": "nW-f6RgfPSs5"
      },
      "source": [
        "<img src=\"../include/header.jpg\" align=\"left\">\n",
        "\n",
        "$ \\newcommand{\\biginner}[2]{\\left\\langle #1,#2\\right\\rangle} $\n",
        "$ \\newcommand{\\mymatrix}[2]{\\left( \\begin{array}{#1} #2\\end{array} \\right)} $\n",
        "$ \\newcommand{\\myvector}[1]{\\mymatrix{c}{#1}} $\n",
        "$ \\newcommand{\\myrvector}[1]{\\mymatrix{r}{#1}} $\n",
        "$ \\newcommand{\\mypar}[1]{\\left( #1 \\right)} $\n",
        "$ \\newcommand{\\mybigpar}[1]{ \\Big( #1 \\Big)} $\n",
        "$ \\newcommand{\\sqrttwo}{\\frac{1}{\\sqrt{2}}} $\n",
        "$ \\newcommand{\\dsqrttwo}{\\dfrac{1}{\\sqrt{2}}} $\n",
        "$ \\newcommand{\\onehalf}{\\frac{1}{2}} $\n",
        "$ \\newcommand{\\donehalf}{\\dfrac{1}{2}} $\n",
        "$ \\newcommand{\\hadamard}{ \\mymatrix{rr}{ \\sqrttwo & \\sqrttwo \\\\ \\sqrttwo & -\\sqrttwo }} $\n",
        "$ \\newcommand{\\vzero}{\\myvector{1\\\\0}} $\n",
        "$ \\newcommand{\\vone}{\\myvector{0\\\\1}} $\n",
        "$ \\newcommand{\\stateplus}{\\myvector{ \\sqrttwo \\\\  \\sqrttwo } } $\n",
        "$ \\newcommand{\\stateminus}{ \\myrvector{ \\sqrttwo \\\\ -\\sqrttwo } } $\n",
        "$ \\newcommand{\\myarray}[2]{ \\begin{array}{#1}#2\\end{array}} $\n",
        "$ \\newcommand{\\X}{ \\mymatrix{cc}{0 & 1 \\\\ 1 & 0}  } $\n",
        "$ \\newcommand{\\ZMatrix}{ \\mymatrix{rr}{1 & 0 \\\\ 0 & -1}  } $\n",
        "$ \\newcommand{\\Htwo}{ \\mymatrix{rrrr}{ \\frac{1}{2} & \\frac{1}{2} & \\frac{1}{2} & \\frac{1}{2} \\\\ \\frac{1}{2} & -\\frac{1}{2} & \\frac{1}{2} & -\\frac{1}{2} \\\\ \\frac{1}{2} & \\frac{1}{2} & -\\frac{1}{2} & -\\frac{1}{2} \\\\ \\frac{1}{2} & -\\frac{1}{2} & -\\frac{1}{2} & \\frac{1}{2} } } $\n",
        "$ \\newcommand{\\CNOT}{ \\mymatrix{cccc}{1 & 0 & 0 & 0 \\\\ 0 & 1 & 0 & 0 \\\\ 0 & 0 & 0 & 1 \\\\ 0 & 0 & 1 & 0} } $\n",
        "$ \\newcommand{\\norm}[1]{ \\left\\lVert #1 \\right\\rVert } $\n",
        "$ \\newcommand{\\pstate}[1]{ \\lceil \\mspace{-1mu} #1 \\mspace{-1.5mu} \\rfloor } $\n",
        "$ \\newcommand{\\Y}{ \\mymatrix{rr}{0 & -i \\\\ i & 0} } $\n",
        "$ \\newcommand{\\SMatrix}{ \\mymatrix{rr}{1 & 0 \\\\ 0 & i} } $\n",
        "$ \\newcommand{\\T}{ \\mymatrix{rr}{1 & 0 \\\\ 0 & e^{i \\frac{\\pi}{4}}} } $\n",
        "$ \\newcommand{\\Sdg}{ \\mymatrix{rr}{1 & 0 \\\\ 0 & -i} } $\n",
        "$ \\newcommand{\\Tdg}{ \\mymatrix{rr}{1 & 0 \\\\ 0 & e^{-i \\frac{\\pi}{4}}} } $\n",
        "$ \\newcommand{\\qgate}[1]{ \\mathop{\\\\textit{#1} } }$\n",
        "$ \\newcommand{\\gate}[1]{ \\text{#1} }$"
      ]
    },
    {
      "cell_type": "markdown",
      "metadata": {
        "id": "z7G9RbJLPSs8"
      },
      "source": [
        "_prepared by Maksim Dimitrijev and Abuzer Yakaryilmaz_\n",
        "<br><br>\n",
        "_Cirq adaptation by Claudia Zendejas-Morales_"
      ]
    },
    {
      "cell_type": "markdown",
      "metadata": {
        "id": "A-JxHJNQPSs8"
      },
      "source": [
        "# Multi-qubit gates"
      ]
    },
    {
      "cell_type": "code",
      "execution_count": null,
      "metadata": {
        "id": "_aZ48a8CPSs9"
      },
      "outputs": [],
      "source": [
        "import IPython\n",
        "\n",
        "def in_colab():\n",
        "    try:\n",
        "        import google.colab\n",
        "        return True\n",
        "    except:\n",
        "        return False\n",
        "\n",
        "SolutionToTask1 = lambda: IPython.display.display(IPython.display.Javascript('window.open(\"{url}\");'.format(url='https://colab.research.google.com/drive/12PzCm5Y71g3JxhKqbe9mh0PgYyybYKaH?usp=sharing#scrollTo=A62APel5L2Cq' if in_colab() else 'QB33_C09_Multi-qubit_Gates_Solutions.ipynb#task1')))\n",
        "SolutionToTask2 = lambda: IPython.display.display(IPython.display.Javascript('window.open(\"{url}\");'.format(url='https://colab.research.google.com/drive/12PzCm5Y71g3JxhKqbe9mh0PgYyybYKaH?usp=sharing#scrollTo=6bq4GNy5L2Cs' if in_colab() else 'QB33_C09_Multi-qubit_Gates_Solutions.ipynb#task2')))\n",
        "SolutionToTask3 = lambda: IPython.display.display(IPython.display.Javascript('window.open(\"{url}\");'.format(url='https://colab.research.google.com/drive/12PzCm5Y71g3JxhKqbe9mh0PgYyybYKaH?usp=sharing#scrollTo=u83vEIKqL2Cs' if in_colab() else 'QB33_C09_Multi-qubit_Gates_Solutions.ipynb#task3')))\n",
        "SolutionToTask4 = lambda: IPython.display.display(IPython.display.Javascript('window.open(\"{url}\");'.format(url='https://colab.research.google.com/drive/12PzCm5Y71g3JxhKqbe9mh0PgYyybYKaH?usp=sharing#scrollTo=ytAFNwgFL2Ct' if in_colab() else 'QB33_C09_Multi-qubit_Gates_Solutions.ipynb#task4')))\n",
        "SolutionToTask5 = lambda: IPython.display.display(IPython.display.Javascript('window.open(\"{url}\");'.format(url='https://colab.research.google.com/drive/12PzCm5Y71g3JxhKqbe9mh0PgYyybYKaH?usp=sharing#scrollTo=k3L2k9iAL2Ct' if in_colab() else 'QB33_C09_Multi-qubit_Gates_Solutions.ipynb#task5')))\n",
        "SolutionToTask6 = lambda: IPython.display.display(IPython.display.Javascript('window.open(\"{url}\");'.format(url='https://colab.research.google.com/drive/12PzCm5Y71g3JxhKqbe9mh0PgYyybYKaH?usp=sharing#scrollTo=n_rrPBlYL2Ct' if in_colab() else 'QB33_C09_Multi-qubit_Gates_Solutions.ipynb#task6')))\n",
        "SolutionToTask7 = lambda: IPython.display.display(IPython.display.Javascript('window.open(\"{url}\");'.format(url='https://colab.research.google.com/drive/12PzCm5Y71g3JxhKqbe9mh0PgYyybYKaH?usp=sharing#scrollTo=dAablgQqL2Ct' if in_colab() else 'QB33_C09_Multi-qubit_Gates_Solutions.ipynb#task7')))\n",
        "\n",
        "if in_colab():\n",
        "    !pip install cirq"
      ]
    },
    {
      "cell_type": "markdown",
      "metadata": {
        "id": "xgJeH6K1PSs_"
      },
      "source": [
        "## SWAP gate\n",
        "\n",
        "The `SWAP` gate is defined on two qubits and it swaps the values of qubits.\n",
        "\n",
        "Its transitions are as follows:\n",
        "\n",
        "- $ \\gate{SWAP} \\ket{00} = \\ket{00} $\n",
        "- $ \\gate{SWAP} \\ket{01} = \\ket{10} $\n",
        "- $ \\gate{SWAP} \\ket{10} = \\ket{01} $\n",
        "- $ \\gate{SWAP} \\ket{11} = \\ket{11} $\n",
        "\n",
        "Then, its matrix form is\n",
        "\n",
        "$ \\gate{SWAP} = \\mymatrix{cccc}{1 & 0 & 0 & 0 \\\\ 0 & 0 & 1 & 0 \\\\ 0 & 1 & 0 & 0 \\\\ 0 & 0 & 0 & 1} $."
      ]
    },
    {
      "cell_type": "markdown",
      "metadata": {
        "id": "aCOj_XN3PSs_"
      },
      "source": [
        "Below we define a simple two-qubit circuit, and execute it 1000 times.\n",
        "\n",
        "Later, we use the same circuit, but apply a `SWAP` gate before the measurements.\n",
        "\n",
        "Then, the outcomes should be reversed."
      ]
    },
    {
      "cell_type": "code",
      "execution_count": null,
      "metadata": {
        "id": "25lVFC8NPSs_"
      },
      "outputs": [],
      "source": [
        "import cirq\n",
        "from cirq import H, X, measure\n",
        "\n",
        "circuit = cirq.Circuit()\n",
        "\n",
        "q0, q1 = cirq.LineQubit.range(2) #create 2 qubits\n",
        "\n",
        "circuit.append(X(q0))\n",
        "circuit.append(H(q1))\n",
        "\n",
        "# the state of two qubits is |1>|+>\n",
        "\n",
        "# Simulate the circuit\n",
        "sim = cirq.Simulator()\n",
        "results = sim.simulate(circuit)\n",
        "\n",
        "print(\"the quantum state is\")\n",
        "print(results.dirac_notation())\n",
        "print()\n",
        "\n",
        "circuit.append(measure(q0, q1, key='result'))\n",
        "\n",
        "print(\"the circuit is\")\n",
        "print(circuit)\n",
        "print()\n",
        "\n",
        "\n",
        "# default representation in Cirq is with decimal numbers\n",
        "# with this function we convert the decimal numbers into binary (bitstrings)\n",
        "def bitstring(bits):\n",
        "    return \"\".join(str(int(b)) for b in bits)\n",
        "\n",
        "\n",
        "# Execute the circuit\n",
        "samples = sim.run(circuit, repetitions=1000)\n",
        "print(\"outcomes:\", samples.histogram(key='result', fold_func=bitstring))"
      ]
    },
    {
      "cell_type": "markdown",
      "metadata": {
        "id": "KiEiW5WRPSs_"
      },
      "source": [
        "We observe the outcomes `10` and `11` with equal probability. The qubit `q0` outputs only 1.\n",
        "\n",
        "Now, we apply a `SWAP` gate before the measurements."
      ]
    },
    {
      "cell_type": "code",
      "execution_count": null,
      "metadata": {
        "id": "4lI95N1XPStA"
      },
      "outputs": [],
      "source": [
        "import cirq\n",
        "from cirq import H, X, measure, SWAP\n",
        "\n",
        "circuit = cirq.Circuit()\n",
        "\n",
        "q0, q1 = cirq.LineQubit.range(2) #create 2 qubits\n",
        "\n",
        "circuit.append(X(q0))\n",
        "circuit.append(H(q1))\n",
        "\n",
        "# the state of two qubits is |1>|+>\n",
        "\n",
        "# apply a SWAP gate\n",
        "circuit.append(SWAP.on(q0, q1))\n",
        "\n",
        "# the state of two qubits is |+>|1>\n",
        "\n",
        "# Simulate the circuit\n",
        "sim = cirq.Simulator()\n",
        "results = sim.simulate(circuit)\n",
        "\n",
        "print(\"the quantum state is\")\n",
        "print(results.dirac_notation())\n",
        "print()\n",
        "\n",
        "circuit.append(measure(q0, q1, key='result'))\n",
        "\n",
        "print(\"the circuit is\")\n",
        "print(circuit)\n",
        "print()\n",
        "\n",
        "\n",
        "# default representation in Cirq is with decimal numbers\n",
        "# with this function we convert the decimal numbers into binary (bitstrings)\n",
        "def bitstring(bits):\n",
        "    return \"\".join(str(int(b)) for b in bits)\n",
        "\n",
        "\n",
        "# Execute the circuit\n",
        "samples = sim.run(circuit, repetitions=1000)\n",
        "print(\"outcomes:\", samples.histogram(key='result', fold_func=bitstring))"
      ]
    },
    {
      "cell_type": "markdown",
      "metadata": {
        "id": "EZJqI_pwPStA"
      },
      "source": [
        "We observe the outcomes `01` and `11` with equal probability. The qubit `q1` outputs only 1."
      ]
    },
    {
      "cell_type": "markdown",
      "metadata": {
        "id": "6dQ8UeTRPStA"
      },
      "source": [
        "### Task 1\n",
        "\n",
        "We have three qubits as q0⊗q1⊗q2.\n",
        "\n",
        "Below is the transitions of `SWAP` operator on q0 and q2. Complete the missing parts.\n",
        "\n",
        "- $ \\ket{000} \\rightarrow \\ket{?} $\n",
        "- $ \\ket{001} \\rightarrow \\ket{?} $\n",
        "- $ \\ket{010} \\rightarrow \\ket{?} $\n",
        "- $ \\ket{011} \\rightarrow \\ket{?} $\n",
        "- $ \\ket{100} \\rightarrow \\ket{?} $\n",
        "- $ \\ket{101} \\rightarrow \\ket{?} $\n",
        "- $ \\ket{110} \\rightarrow \\ket{?} $\n",
        "- $ \\ket{111} \\rightarrow \\ket{?} $\n",
        "\n",
        "Write the matrix of this operator."
      ]
    },
    {
      "cell_type": "markdown",
      "metadata": {},
      "source": [
        "#### Solution"
      ]
    },
    {
      "cell_type": "markdown",
      "metadata": {},
      "source": [
        "- $ \\ket{000} \\gate{SWAP}_{1,3} \\rightarrow \\ket{000} $\n",
        "- $ \\ket{001} \\gate{SWAP}_{1,3} \\rightarrow \\ket{100} $\n",
        "- $ \\ket{010} \\gate{SWAP}_{1,3} \\rightarrow \\ket{010} $\n",
        "- $ \\ket{011} \\gate{SWAP}_{1,3} \\rightarrow \\ket{110} $\n",
        "- $ \\ket{100} \\gate{SWAP}_{1,3} \\rightarrow \\ket{001} $\n",
        "- $ \\ket{101} \\gate{SWAP}_{1,3} \\rightarrow \\ket{101} $\n",
        "- $ \\ket{110} \\gate{SWAP}_{1,3} \\rightarrow \\ket{011} $\n",
        "- $ \\ket{111} \\gate{SWAP}_{1,3} \\rightarrow \\ket{111} $\n",
        "\n",
        "$\\gate{SWAP}_{1,3} = \\mymatrix{cccccccc}{\n",
        "    1 & 0 & 0 & 0 & 0 & 0 & 0 & 0 \\\\ \n",
        "    0 & 0 & 0 & 0 & 1 & 0 & 0 & 0 \\\\ \n",
        "    0 & 0 & 1 & 0 & 0 & 0 & 0 & 0 \\\\ \n",
        "    0 & 0 & 0 & 0 & 0 & 0 & 1 & 0 \\\\ \n",
        "    0 & 1 & 0 & 0 & 0 & 0 & 0 & 0 \\\\ \n",
        "    0 & 0 & 0 & 0 & 0 & 1 & 0 & 0 \\\\ \n",
        "    0 & 0 & 0 & 1 & 0 & 0 & 0 & 0 \\\\ \n",
        "    0 & 0 & 0 & 0 & 0 & 0 & 0 & 1 \n",
        "    }\n",
        "$"
      ]
    },
    {
      "cell_type": "markdown",
      "metadata": {
        "id": "ppfn5mefPStA"
      },
      "source": [
        "### Task 2\n",
        "\n",
        "Suppose that in Task 1 three qubits are placed on a line as q0---q1---q2, and `SWAP` operator is allowed only for neighbors, i.e., between 0 and 1 and between 1 and 2.\n",
        "\n",
        "Design a circuit swapping q0 and q2 but following neighborhood constraints for `SWAP` gates."
      ]
    },
    {
      "cell_type": "markdown",
      "metadata": {},
      "source": [
        "#### Solution"
      ]
    },
    {
      "cell_type": "markdown",
      "metadata": {},
      "source": [
        "$ \\gate{SWAP}_{1,3} =  \\gate{SWAP}_{1,2} \\gate{SWAP}_{2,3} \\gate{SWAP}_{1,2} $   "
      ]
    },
    {
      "cell_type": "markdown",
      "metadata": {
        "id": "Vs8igVDoPStB"
      },
      "source": [
        "## Controlled gates\n",
        "\n",
        "Any gate in Cirq can be turned into a controlled gate by using the `controlled()` method or the **`controlled_by()`** method.\n",
        "\n",
        "The parameter(s) of this methods is(are) the contol qubit(s).\n",
        "\n",
        "Here are a few examples:\n",
        "\n",
        "    cirq.X.controlled().on(q0, q1)      # q1 is the target; q0 is control\n",
        "    cirq.X(q1).controlled_by(q0)        # q1 is the target; q0 is control\n",
        "    cirq.X.on(q1).controlled_by(q0)     # q1 is the target; q0 is control\n",
        "\n",
        "    cirq.X(q0).controlled_by(q1, q2, q3)       # q0 is the target; q1, q2, and q3 are controls\n",
        "    \n",
        "    cirq.H(q1).controlled_by(q0, q3)           # q1 is the target; q0 and q3 are controls\n",
        "\n",
        "    cirq.ry(pi/3).on(q2).controlled_by(q1, q0) # q2 is the target; q0 and q1 are controls\n",
        "    \n",
        "Here we review the controlled versions of a couple different gates."
      ]
    },
    {
      "cell_type": "markdown",
      "metadata": {
        "id": "taYjGSMpPStB"
      },
      "source": [
        "### Controlled gates\n",
        "\n",
        "This is the most well-known two-qubit gates:\n",
        "\n",
        "$ \\gate{X}^1_2 = \\mymatrix{cccc}{1 & 0 & 0 & 0 \\\\ 0 & 1 & 0 & 0 \\\\ 0 & 0 & 0 & 1 \\\\ 0 & 0 & 1 & 0} $.\n",
        "\n",
        "$ \\gate{Y}^1_2 = \\mymatrix{cccc}{1 & 0 & 0 & 0 \\\\ 0 & 1 & 0 & 0 \\\\ 0 & 0 & 0 & -i \\\\ 0 & 0 & i & 0} $.\n",
        "\n",
        "$ \\gate{Z}^1_2 = \\mymatrix{cccc}{1 & 0 & 0 & 0 \\\\ 0 & 1 & 0 & 0 \\\\ 0 & 0 & 1 & 0 \\\\ 0 & 0 & 0 & -1} $.\n",
        "\n",
        "$ \\gate{H}^1_2 = \\mymatrix{cccc}{1 & 0 & 0 & 0 \\\\ 0 & 1 & 0 & 0 \\\\ 0 & 0 & \\frac{1}{\\sqrt{2}} & \\frac{-1}{\\sqrt{2}} \\\\ 0 & 0 & \\frac{1}{\\sqrt{2}} & \\frac{1}{\\sqrt{2}}} $.\n",
        "\n",
        "$ \\gate{S}^1_2 = \\mymatrix{cccc}{1 & 0 & 0 & 0 \\\\ 0 & 1 & 0 & 0 \\\\ 0 & 0 & 1 & 0 \\\\ 0 & 0 & 0 & e^{i\\pi/2}} $.\n",
        "\n",
        "$\n",
        "    \\gate{X}^{1,2}_3= \\mymatrix{cc|cc|cc|cc}{1 & 0 & 0 & 0 & 0 & 0 & 0 & 0 \\\\ 0 & 1 & 0 & 0 & 0 & 0 & 0 & 0 \\\\ \\hline 0 & 0 & 1 & 0 & 0 & 0 & 0 & 0 \\\\ 0 & 0 & 0 & 1 & 0 & 0 & 0 & 0 \\\\ \\hline 0 & 0 & 0 & 0 & 1 & 0 & 0 & 0 \\\\ 0 & 0 & 0 & 0 & 0 & 1 & 0 & 0 \\\\ \\hline 0 & 0 & 0 & 0 & 0 & 0 & 0 & 1 \\\\ 0 & 0 & 0 & 0 & 0 & 0 & 1 & 0}\n",
        "$.\n",
        "\n",
        "$\n",
        "    \\gate{SWAP}^1_{2,3} = \\mymatrix{cccc|cccc}{1 & 0 & 0 & 0 & 0 & 0 & 0 & 0 \\\\ 0 & 1 & 0 & 0 & 0 & 0 & 0 & 0 \\\\ 0 & 0 & 1 & 0 & 0 & 0 & 0 & 0 \\\\ 0 & 0 & 0 & 1 & 0 & 0 & 0 & 0 \\\\ \\hline 0 & 0 & 0 & 0 & 1 & 0 & 0 & 0 \\\\ 0 & 0 & 0 & 0 & 0 & 0 & 1 & 0 \\\\ 0 & 0 & 0 & 0 & 0 & 1 & 0 & 0 \\\\ 0 & 0 & 0 & 0 & 0 & 0 & 0 & 1}\n",
        "$."
      ]
    }
  ],
  "metadata": {
    "colab": {
      "collapsed_sections": [
        "y_TSf3sRPSs9"
      ],
      "provenance": []
    },
    "kernelspec": {
      "display_name": "Python 3 (ipykernel)",
      "language": "python",
      "name": "python3"
    },
    "language_info": {
      "codemirror_mode": {
        "name": "ipython",
        "version": 3
      },
      "file_extension": ".py",
      "mimetype": "text/x-python",
      "name": "python",
      "nbconvert_exporter": "python",
      "pygments_lexer": "ipython3",
      "version": "3.11.4"
    }
  },
  "nbformat": 4,
  "nbformat_minor": 0
}
